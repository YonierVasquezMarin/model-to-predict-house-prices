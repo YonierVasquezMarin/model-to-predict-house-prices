{
 "cells": [
  {
   "cell_type": "markdown",
   "metadata": {},
   "source": [
    "## Obtener, impiar y transformarlos los datos"
   ]
  },
  {
   "cell_type": "code",
   "execution_count": 3,
   "metadata": {},
   "outputs": [],
   "source": [
    "import os\n",
    "import pandas as pd\n",
    "import numpy as np\n",
    "from sklearn.model_selection import StratifiedShuffleSplit\n",
    "from sklearn.base import BaseEstimator, TransformerMixin\n",
    "from sklearn.pipeline import Pipeline\n",
    "from sklearn.impute import SimpleImputer\n",
    "from sklearn.preprocessing import OneHotEncoder, StandardScaler\n",
    "from sklearn.compose import ColumnTransformer\n",
    "\n",
    "# CARGAR LOS DATOS\n",
    "def load_housing_data():\n",
    "    csv_path = os.path.join(\"datasets\", \"housing\", \"housing.csv\")\n",
    "    return pd.read_csv(csv_path)\n",
    "\n",
    "housing = load_housing_data()\n",
    "\n",
    "# APLICAR DIVISION ESTRATIFICADA\n",
    "housing[\"income_cat\"] = pd.cut(\n",
    "    housing[\"median_income\"],\n",
    "    bins=[0., 1.5, 3.0, 4.5, 6., np.inf],\n",
    "    labels=[1, 2, 3, 4, 5])\n",
    "\n",
    "split = StratifiedShuffleSplit(n_splits=1, test_size=0.2, random_state=42)\n",
    "for train_index, test_index in split.split(housing, housing[\"income_cat\"]):\n",
    "    strat_train_set = housing.loc[train_index]\n",
    "    strat_test_set = housing.loc[test_index]\n",
    "\n",
    "for set_ in (strat_train_set, strat_test_set):\n",
    "    set_.drop(\"income_cat\", axis=1, inplace=True)\n",
    "\n",
    "housing = strat_train_set.drop(\"median_house_value\", axis=1)\n",
    "\n",
    "\n",
    "# APLICAR TRANSFORMADORES\n",
    "rooms_ix, bedrooms_ix, population_ix, households_ix = 3, 4, 5, 6\n",
    "\n",
    "class CombinedAttributesAdder(BaseEstimator, TransformerMixin):\n",
    "    def __init__(self, add_bedrooms_per_room = True): # no *args or **kargs\n",
    "        self.add_bedrooms_per_room = add_bedrooms_per_room\n",
    "    def fit(self, x, y=None):\n",
    "        return self # nothing else to do\n",
    "    def transform(self, x):\n",
    "        rooms_per_household = x[:, rooms_ix] / x[:, households_ix]\n",
    "        population_per_household = x[:, population_ix] / x[:, households_ix]\n",
    "        if self.add_bedrooms_per_room:\n",
    "            bedrooms_per_room = x[:, bedrooms_ix] / x[:, rooms_ix]\n",
    "            return np.c_[x, rooms_per_household, population_per_household, bedrooms_per_room]\n",
    "        else:\n",
    "            return np.c_[x, rooms_per_household, population_per_household]\n",
    "        \n",
    "housing_num = housing.drop(\"ocean_proximity\", axis=1)\n",
    "housing_labels = strat_train_set[\"median_house_value\"].copy()\n",
    "\n",
    "num_pipeline = Pipeline([\n",
    "    ('imputer', SimpleImputer(strategy=\"most_frequent\")),\n",
    "    ('attribs_adder', CombinedAttributesAdder()),\n",
    "    ('std_scaler', StandardScaler()),\n",
    "])\n",
    "\n",
    "num_attribs = list(housing_num)\n",
    "cat_attribs = [\"ocean_proximity\"]\n",
    "\n",
    "full_pipeline = ColumnTransformer([\n",
    "    (\"num\", num_pipeline, num_attribs),\n",
    "    (\"cat\", OneHotEncoder(), cat_attribs),\n",
    "])\n",
    "housing_prepared = full_pipeline.fit_transform(housing)"
   ]
  },
  {
   "cell_type": "markdown",
   "metadata": {},
   "source": [
    "## Definición del manipulador de Azure"
   ]
  },
  {
   "cell_type": "code",
   "execution_count": 4,
   "metadata": {},
   "outputs": [],
   "source": [
    "from azure.ai.ml import MLClient\n",
    "from azure.identity import DefaultAzureCredential\n",
    "\n",
    "# authenticate\n",
    "credential = DefaultAzureCredential()\n",
    "\n",
    "# Get a handle to the workspace\n",
    "ml_client = MLClient(\n",
    "    credential=credential,\n",
    "    subscription_id=\"182f5247-df87-4239-81cb-65bef9f46fd1\",\n",
    "    resource_group_name=\"yoniervasquezmarin-rg\",\n",
    "    workspace_name=\"prueba-maching-learning\",\n",
    ")"
   ]
  },
  {
   "cell_type": "markdown",
   "metadata": {},
   "source": [
    "## Entrenar el modelo usando `LinealRegressor`"
   ]
  },
  {
   "cell_type": "code",
   "execution_count": 5,
   "metadata": {},
   "outputs": [
    {
     "ename": "ValidationException",
     "evalue": "Unsupported input type: <class 'numpy.ndarray'>, only Input, dict, str, bool, int and float are supported.",
     "output_type": "error",
     "traceback": [
      "\u001b[0;31m---------------------------------------------------------------------------\u001b[0m",
      "\u001b[0;31mValidationException\u001b[0m                       Traceback (most recent call last)",
      "Cell \u001b[0;32mIn[5], line 11\u001b[0m\n\u001b[1;32m      7\u001b[0m \u001b[39mfrom\u001b[39;00m \u001b[39mazure\u001b[39;00m\u001b[39m.\u001b[39;00m\u001b[39mai\u001b[39;00m\u001b[39m.\u001b[39;00m\u001b[39mml\u001b[39;00m \u001b[39mimport\u001b[39;00m Input\n\u001b[1;32m      9\u001b[0m registered_model_name \u001b[39m=\u001b[39m \u001b[39m\"\u001b[39m\u001b[39mhousing_prices_model\u001b[39m\u001b[39m\"\u001b[39m\n\u001b[0;32m---> 11\u001b[0m job_train_lineal_regressor \u001b[39m=\u001b[39m command(\n\u001b[1;32m     12\u001b[0m     inputs\u001b[39m=\u001b[39;49m\u001b[39mdict\u001b[39;49m(\n\u001b[1;32m     13\u001b[0m         data\u001b[39m=\u001b[39;49mhousing_prepared,\n\u001b[1;32m     14\u001b[0m         registered_model_name\u001b[39m=\u001b[39;49mregistered_model_name,\n\u001b[1;32m     15\u001b[0m     ),\n\u001b[1;32m     16\u001b[0m     code\u001b[39m=\u001b[39;49m\u001b[39m\"\u001b[39;49m\u001b[39m./models/\u001b[39;49m\u001b[39m\"\u001b[39;49m,  \u001b[39m# location of source code\u001b[39;49;00m\n\u001b[1;32m     17\u001b[0m     command\u001b[39m=\u001b[39;49m\u001b[39m\"\u001b[39;49m\u001b[39mpython lineal-regression.py --data $\u001b[39;49m\u001b[39m{{\u001b[39;49m\u001b[39minputs.data}} --registered_model_name $\u001b[39;49m\u001b[39m{{\u001b[39;49m\u001b[39minputs.registered_model_name}}\u001b[39;49m\u001b[39m\"\u001b[39;49m,\n\u001b[1;32m     18\u001b[0m     \u001b[39m# environment=\"aml-scikit-learn@latest\",\u001b[39;49;00m\n\u001b[1;32m     19\u001b[0m     display_name\u001b[39m=\u001b[39;49m\u001b[39m\"\u001b[39;49m\u001b[39mhousing_prices_prediction\u001b[39;49m\u001b[39m\"\u001b[39;49m,\n\u001b[1;32m     20\u001b[0m )\n",
      "File \u001b[0;32m/anaconda/envs/azureml_py310_sdkv2/lib/python3.10/site-packages/azure/ai/ml/entities/_builders/command_func.py:223\u001b[0m, in \u001b[0;36mcommand\u001b[0;34m(name, description, tags, properties, display_name, command, experiment_name, environment, environment_variables, distribution, compute, inputs, outputs, instance_count, instance_type, locations, docker_args, shm_size, timeout, code, identity, is_deterministic, services, job_tier, priority, **kwargs)\u001b[0m\n\u001b[1;32m    221\u001b[0m inputs \u001b[39m=\u001b[39m inputs \u001b[39mor\u001b[39;00m {}\n\u001b[1;32m    222\u001b[0m outputs \u001b[39m=\u001b[39m outputs \u001b[39mor\u001b[39;00m {}\n\u001b[0;32m--> 223\u001b[0m component_inputs, job_inputs \u001b[39m=\u001b[39m _parse_inputs_outputs(inputs, parse_func\u001b[39m=\u001b[39;49m_parse_input)\n\u001b[1;32m    224\u001b[0m \u001b[39m# job inputs can not be None\u001b[39;00m\n\u001b[1;32m    225\u001b[0m job_inputs \u001b[39m=\u001b[39m {k: v \u001b[39mfor\u001b[39;00m k, v \u001b[39min\u001b[39;00m job_inputs\u001b[39m.\u001b[39mitems() \u001b[39mif\u001b[39;00m v \u001b[39mis\u001b[39;00m \u001b[39mnot\u001b[39;00m \u001b[39mNone\u001b[39;00m}\n",
      "File \u001b[0;32m/anaconda/envs/azureml_py310_sdkv2/lib/python3.10/site-packages/azure/ai/ml/entities/_builders/command_func.py:109\u001b[0m, in \u001b[0;36m_parse_inputs_outputs\u001b[0;34m(io_dict, parse_func)\u001b[0m\n\u001b[1;32m    107\u001b[0m \u001b[39mif\u001b[39;00m io_dict:\n\u001b[1;32m    108\u001b[0m     \u001b[39mfor\u001b[39;00m key, val \u001b[39min\u001b[39;00m io_dict\u001b[39m.\u001b[39mitems():\n\u001b[0;32m--> 109\u001b[0m         component_io, job_io \u001b[39m=\u001b[39m parse_func(val)\n\u001b[1;32m    110\u001b[0m         component_io_dict[key] \u001b[39m=\u001b[39m component_io\n\u001b[1;32m    111\u001b[0m         job_io_dict[key] \u001b[39m=\u001b[39m job_io\n",
      "File \u001b[0;32m/anaconda/envs/azureml_py310_sdkv2/lib/python3.10/site-packages/azure/ai/ml/entities/_builders/command_func.py:70\u001b[0m, in \u001b[0;36m_parse_input\u001b[0;34m(input_value)\u001b[0m\n\u001b[1;32m     68\u001b[0m \u001b[39melse\u001b[39;00m:\n\u001b[1;32m     69\u001b[0m     msg \u001b[39m=\u001b[39m \u001b[39mf\u001b[39m\u001b[39m\"\u001b[39m\u001b[39mUnsupported input type: \u001b[39m\u001b[39m{\u001b[39;00m\u001b[39mtype\u001b[39m(input_value)\u001b[39m}\u001b[39;00m\u001b[39m, only Input, dict, str, bool, int and float are supported.\u001b[39m\u001b[39m\"\u001b[39m\n\u001b[0;32m---> 70\u001b[0m     \u001b[39mraise\u001b[39;00m ValidationException(\n\u001b[1;32m     71\u001b[0m         message\u001b[39m=\u001b[39mmsg,\n\u001b[1;32m     72\u001b[0m         no_personal_data_message\u001b[39m=\u001b[39mmsg,\n\u001b[1;32m     73\u001b[0m         target\u001b[39m=\u001b[39mErrorTarget\u001b[39m.\u001b[39mJOB,\n\u001b[1;32m     74\u001b[0m         error_type\u001b[39m=\u001b[39mValidationErrorType\u001b[39m.\u001b[39mINVALID_VALUE,\n\u001b[1;32m     75\u001b[0m     )\n\u001b[1;32m     76\u001b[0m \u001b[39mreturn\u001b[39;00m component_input, job_input\n",
      "\u001b[0;31mValidationException\u001b[0m: Unsupported input type: <class 'numpy.ndarray'>, only Input, dict, str, bool, int and float are supported."
     ]
    }
   ],
   "source": [
    "from sklearn.linear_model import LinearRegression\n",
    "from sklearn.tree import DecisionTreeRegressor\n",
    "from sklearn.ensemble import RandomForestRegressor\n",
    "from sklearn.model_selection import cross_val_score\n",
    "from sklearn.metrics import mean_squared_error\n",
    "from azure.ai.ml import command\n",
    "from azure.ai.ml import Input\n",
    "\n",
    "registered_model_name = \"housing_prices_model\"\n",
    "\n",
    "job_train_lineal_regressor = command(\n",
    "    inputs=dict(\n",
    "        data=housing_prepared,\n",
    "        registered_model_name=registered_model_name,\n",
    "    ),\n",
    "    code=\"./models/\",  # location of source code\n",
    "    command=\"python lineal-regression.py --data ${{inputs.data}} --registered_model_name ${{inputs.registered_model_name}}\",\n",
    "    # environment=\"aml-scikit-learn@latest\",\n",
    "    display_name=\"housing_prices_prediction\",\n",
    ")"
   ]
  },
  {
   "cell_type": "code",
   "execution_count": null,
   "metadata": {},
   "outputs": [],
   "source": [
    "ml_client.create_or_update(job_train_lineal_regressor)"
   ]
  }
 ],
 "metadata": {
  "kernelspec": {
   "display_name": "Python 3.10 - SDK v2",
   "language": "python",
   "name": "python310-sdkv2"
  },
  "language_info": {
   "codemirror_mode": {
    "name": "ipython",
    "version": 3
   },
   "file_extension": ".py",
   "mimetype": "text/x-python",
   "name": "python",
   "nbconvert_exporter": "python",
   "pygments_lexer": "ipython3",
   "version": "3.10.11"
  },
  "orig_nbformat": 4
 },
 "nbformat": 4,
 "nbformat_minor": 2
}
